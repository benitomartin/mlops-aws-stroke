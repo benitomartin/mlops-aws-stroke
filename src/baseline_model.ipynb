{
 "cells": [
  {
   "cell_type": "code",
   "execution_count": 61,
   "id": "5fec5d47",
   "metadata": {},
   "outputs": [],
   "source": [
    "import pandas as pd\n",
    "import matplotlib.pyplot as plt\n",
    "import numpy as np\n",
    "\n",
    "from sklearn.compose import ColumnTransformer\n",
    "from sklearn.pipeline import make_pipeline\n",
    "from sklearn.preprocessing import OneHotEncoder\n",
    "from sklearn.model_selection import train_test_split \n",
    "from sklearn.metrics import roc_auc_score, precision_score, recall_score, f1_score, accuracy_score, roc_curve\n",
    "from sklearn.metrics import confusion_matrix, ConfusionMatrixDisplay\n",
    "\n",
    "import xgboost as xgb"
   ]
  },
  {
   "cell_type": "code",
   "execution_count": 62,
   "id": "9d6b48f0",
   "metadata": {},
   "outputs": [
    {
     "data": {
      "text/html": [
       "<div>\n",
       "<style scoped>\n",
       "    .dataframe tbody tr th:only-of-type {\n",
       "        vertical-align: middle;\n",
       "    }\n",
       "\n",
       "    .dataframe tbody tr th {\n",
       "        vertical-align: top;\n",
       "    }\n",
       "\n",
       "    .dataframe thead th {\n",
       "        text-align: right;\n",
       "    }\n",
       "</style>\n",
       "<table border=\"1\" class=\"dataframe\">\n",
       "  <thead>\n",
       "    <tr style=\"text-align: right;\">\n",
       "      <th></th>\n",
       "      <th>gender</th>\n",
       "      <th>age</th>\n",
       "      <th>hypertension</th>\n",
       "      <th>heart_disease</th>\n",
       "      <th>ever_married</th>\n",
       "      <th>work_type</th>\n",
       "      <th>Residence_type</th>\n",
       "      <th>avg_glucose_level</th>\n",
       "      <th>bmi</th>\n",
       "      <th>smoking_status</th>\n",
       "      <th>stroke</th>\n",
       "    </tr>\n",
       "  </thead>\n",
       "  <tbody>\n",
       "    <tr>\n",
       "      <th>0</th>\n",
       "      <td>Male</td>\n",
       "      <td>67.0</td>\n",
       "      <td>0</td>\n",
       "      <td>1</td>\n",
       "      <td>Yes</td>\n",
       "      <td>Private</td>\n",
       "      <td>Urban</td>\n",
       "      <td>228.69</td>\n",
       "      <td>36.6</td>\n",
       "      <td>formerly smoked</td>\n",
       "      <td>1</td>\n",
       "    </tr>\n",
       "    <tr>\n",
       "      <th>1</th>\n",
       "      <td>Male</td>\n",
       "      <td>80.0</td>\n",
       "      <td>0</td>\n",
       "      <td>1</td>\n",
       "      <td>Yes</td>\n",
       "      <td>Private</td>\n",
       "      <td>Rural</td>\n",
       "      <td>105.92</td>\n",
       "      <td>32.5</td>\n",
       "      <td>never smoked</td>\n",
       "      <td>1</td>\n",
       "    </tr>\n",
       "    <tr>\n",
       "      <th>2</th>\n",
       "      <td>Female</td>\n",
       "      <td>49.0</td>\n",
       "      <td>0</td>\n",
       "      <td>0</td>\n",
       "      <td>Yes</td>\n",
       "      <td>Private</td>\n",
       "      <td>Urban</td>\n",
       "      <td>171.23</td>\n",
       "      <td>34.4</td>\n",
       "      <td>smokes</td>\n",
       "      <td>1</td>\n",
       "    </tr>\n",
       "    <tr>\n",
       "      <th>3</th>\n",
       "      <td>Female</td>\n",
       "      <td>79.0</td>\n",
       "      <td>1</td>\n",
       "      <td>0</td>\n",
       "      <td>Yes</td>\n",
       "      <td>Self-employed</td>\n",
       "      <td>Rural</td>\n",
       "      <td>174.12</td>\n",
       "      <td>24.0</td>\n",
       "      <td>never smoked</td>\n",
       "      <td>1</td>\n",
       "    </tr>\n",
       "    <tr>\n",
       "      <th>4</th>\n",
       "      <td>Male</td>\n",
       "      <td>81.0</td>\n",
       "      <td>0</td>\n",
       "      <td>0</td>\n",
       "      <td>Yes</td>\n",
       "      <td>Private</td>\n",
       "      <td>Urban</td>\n",
       "      <td>186.21</td>\n",
       "      <td>29.0</td>\n",
       "      <td>formerly smoked</td>\n",
       "      <td>1</td>\n",
       "    </tr>\n",
       "  </tbody>\n",
       "</table>\n",
       "</div>"
      ],
      "text/plain": [
       "   gender   age  hypertension  heart_disease ever_married      work_type  \\\n",
       "0    Male  67.0             0              1          Yes        Private   \n",
       "1    Male  80.0             0              1          Yes        Private   \n",
       "2  Female  49.0             0              0          Yes        Private   \n",
       "3  Female  79.0             1              0          Yes  Self-employed   \n",
       "4    Male  81.0             0              0          Yes        Private   \n",
       "\n",
       "  Residence_type  avg_glucose_level   bmi   smoking_status  stroke  \n",
       "0          Urban             228.69  36.6  formerly smoked       1  \n",
       "1          Rural             105.92  32.5     never smoked       1  \n",
       "2          Urban             171.23  34.4           smokes       1  \n",
       "3          Rural             174.12  24.0     never smoked       1  \n",
       "4          Urban             186.21  29.0  formerly smoked       1  "
      ]
     },
     "execution_count": 62,
     "metadata": {},
     "output_type": "execute_result"
    }
   ],
   "source": [
    "# Get data\n",
    "\n",
    "CLEAN_DATA_FILEPATH = \"../data/clean/clean-stroke-data.csv\"\n",
    "\n",
    "clean_df = pd.read_csv(CLEAN_DATA_FILEPATH)\n",
    "clean_df.head()"
   ]
  },
  {
   "cell_type": "code",
   "execution_count": 63,
   "id": "7d8d1e7b",
   "metadata": {},
   "outputs": [
    {
     "name": "stdout",
     "output_type": "stream",
     "text": [
      "<class 'pandas.core.frame.DataFrame'>\n",
      "RangeIndex: 4908 entries, 0 to 4907\n",
      "Data columns (total 11 columns):\n",
      " #   Column             Non-Null Count  Dtype  \n",
      "---  ------             --------------  -----  \n",
      " 0   gender             4908 non-null   object \n",
      " 1   age                4908 non-null   float64\n",
      " 2   hypertension       4908 non-null   int64  \n",
      " 3   heart_disease      4908 non-null   int64  \n",
      " 4   ever_married       4908 non-null   object \n",
      " 5   work_type          4908 non-null   object \n",
      " 6   Residence_type     4908 non-null   object \n",
      " 7   avg_glucose_level  4908 non-null   float64\n",
      " 8   bmi                4908 non-null   float64\n",
      " 9   smoking_status     4908 non-null   object \n",
      " 10  stroke             4908 non-null   int64  \n",
      "dtypes: float64(3), int64(3), object(5)\n",
      "memory usage: 421.9+ KB\n"
     ]
    }
   ],
   "source": [
    "clean_df.info()"
   ]
  },
  {
   "cell_type": "code",
   "execution_count": 64,
   "id": "0dd19b86",
   "metadata": {},
   "outputs": [],
   "source": [
    "# Define features and target\n",
    "\n",
    "X = clean_df.drop(columns = [\"stroke\"])\n",
    "y = clean_df[\"stroke\"]"
   ]
  },
  {
   "cell_type": "code",
   "execution_count": 65,
   "id": "8b1c21f1",
   "metadata": {},
   "outputs": [
    {
     "name": "stdout",
     "output_type": "stream",
     "text": [
      "<class 'pandas.core.frame.DataFrame'>\n",
      "RangeIndex: 4908 entries, 0 to 4907\n",
      "Data columns (total 5 columns):\n",
      " #   Column             Non-Null Count  Dtype  \n",
      "---  ------             --------------  -----  \n",
      " 0   age                4908 non-null   float64\n",
      " 1   hypertension       4908 non-null   int64  \n",
      " 2   heart_disease      4908 non-null   int64  \n",
      " 3   avg_glucose_level  4908 non-null   float64\n",
      " 4   bmi                4908 non-null   float64\n",
      "dtypes: float64(3), int64(2)\n",
      "memory usage: 191.8 KB\n"
     ]
    }
   ],
   "source": [
    "X_num = X.select_dtypes(exclude = ['object'])\n",
    "X_num.info()"
   ]
  },
  {
   "cell_type": "code",
   "execution_count": 66,
   "id": "7800245a",
   "metadata": {},
   "outputs": [
    {
     "name": "stdout",
     "output_type": "stream",
     "text": [
      "<class 'pandas.core.frame.DataFrame'>\n",
      "RangeIndex: 4908 entries, 0 to 4907\n",
      "Data columns (total 5 columns):\n",
      " #   Column          Non-Null Count  Dtype \n",
      "---  ------          --------------  ----- \n",
      " 0   gender          4908 non-null   object\n",
      " 1   ever_married    4908 non-null   object\n",
      " 2   work_type       4908 non-null   object\n",
      " 3   Residence_type  4908 non-null   object\n",
      " 4   smoking_status  4908 non-null   object\n",
      "dtypes: object(5)\n",
      "memory usage: 191.8+ KB\n"
     ]
    }
   ],
   "source": [
    "X_cat = X.select_dtypes(include=['object'])\n",
    "X_cat.info()"
   ]
  },
  {
   "cell_type": "code",
   "execution_count": 67,
   "id": "6393a32e",
   "metadata": {},
   "outputs": [],
   "source": [
    "# Create pipeline\n",
    "\n",
    "cat_features = X_cat.columns.to_list()\n",
    "\n",
    "categorical_transformer = make_pipeline(\n",
    "    OneHotEncoder(),\n",
    ")\n",
    "\n",
    "features_transformer = ColumnTransformer(\n",
    "     transformers=[\n",
    "        (\"categorical\", \n",
    "         categorical_transformer, \n",
    "         cat_features),\n",
    "    ],\n",
    "    remainder='passthrough'  # Keeps the rest of the columns\n",
    "\n",
    ")\n",
    "\n",
    "# Fit and transform the DataFrame\n",
    "encoded_data = features_transformer.fit_transform(X)"
   ]
  },
  {
   "cell_type": "code",
   "execution_count": 68,
   "id": "1414650e",
   "metadata": {},
   "outputs": [
    {
     "data": {
      "text/plain": [
       "(4908, 20)"
      ]
     },
     "execution_count": 68,
     "metadata": {},
     "output_type": "execute_result"
    }
   ],
   "source": [
    "encoded_data.shape"
   ]
  },
  {
   "cell_type": "code",
   "execution_count": 69,
   "id": "0d804e08",
   "metadata": {},
   "outputs": [
    {
     "name": "stdout",
     "output_type": "stream",
     "text": [
      "ROC AUC (logloss): 0.7536727456940223\n"
     ]
    }
   ],
   "source": [
    "# Train/test split\n",
    "X_train, X_test, y_train, y_test = train_test_split(X, y, \n",
    "                                                    test_size=0.2, \n",
    "                                                    random_state=42,\n",
    "                                                    stratify=y)\n",
    "\n",
    "\n",
    "model = make_pipeline(\n",
    "                features_transformer,\n",
    "                xgb.XGBClassifier(objective='binary:logistic', \n",
    "                                eval_metric='auc', \n",
    "                                verbosity=0))\n",
    "\n",
    "# Train the models\n",
    "model.fit(X_train, y_train)\n",
    "\n",
    "# Make predictions for model_logloss\n",
    "y_pred_proba = model.predict_proba(X_test)[:, 1]\n",
    "\n",
    "# Evaluate the model with the custom threshold\n",
    "roc_auc= roc_auc_score(y_test, y_pred_proba)\n",
    "\n",
    "print(f'ROC AUC (logloss): {roc_auc}')"
   ]
  },
  {
   "cell_type": "code",
   "execution_count": 70,
   "id": "258ba06b",
   "metadata": {},
   "outputs": [
    {
     "data": {
      "image/png": "[encoded data removed]",
      "text/plain": [
       "<Figure size 800x600 with 1 Axes>"
      ]
     },
     "metadata": {},
     "output_type": "display_data"
    }
   ],
   "source": [
    "# Plot ROC curve\n",
    "fpr, tpr, thresholds = roc_curve(y_test, y_pred_proba)\n",
    "\n",
    "# Plot ROC curve\n",
    "plt.figure(figsize=(8, 6))\n",
    "plt.plot(fpr, tpr, label=f'(AUC = {roc_auc:.5f})')\n",
    "plt.plot([0, 1], [0, 1], 'k--')\n",
    "plt.xlabel('False Positive Rate')\n",
    "plt.ylabel('True Positive Rate')\n",
    "plt.title('ROC Curve')\n",
    "plt.legend(loc='lower right')\n",
    "plt.show()"
   ]
  },
  {
   "cell_type": "code",
   "execution_count": 71,
   "id": "2220ae5d",
   "metadata": {},
   "outputs": [
    {
     "name": "stdout",
     "output_type": "stream",
     "text": [
      "ROC AUC (logloss): 0.7536727456940223\n",
      "Precision (default threshold): 0.0\n",
      "Recall (default threshold): 0.0\n",
      "F1 Score (default threshold): 0.0\n",
      "Accuracy (default threshold): 0.9480651731160896\n",
      "Confusion Matrix (default threshold):\n",
      "[[931   9]\n",
      " [ 42   0]]\n"
     ]
    },
    {
     "data": {
      "image/png": "[encoded data removed]",
      "text/plain": [
       "<Figure size 640x480 with 2 Axes>"
      ]
     },
     "metadata": {},
     "output_type": "display_data"
    },
    {
     "name": "stdout",
     "output_type": "stream",
     "text": [
      "Best threshold: 0.003418071661144495\n",
      "Precision (custom threshold): 0.08418367346938775\n",
      "Recall (custom threshold): 0.7857142857142857\n",
      "F1 Score (custom threshold): 0.15207373271889402\n",
      "Accuracy (custom threshold): 0.6252545824847251\n",
      "Confusion Matrix (custom threshold):\n",
      "[[581 359]\n",
      " [  9  33]]\n"
     ]
    },
    {
     "data": {
      "image/png": "[encoded data removed]",
      "text/plain": [
       "<Figure size 640x480 with 2 Axes>"
      ]
     },
     "metadata": {},
     "output_type": "display_data"
    }
   ],
   "source": [
    "# Evaluation\n",
    "\n",
    "# Evaluate the model with the default threshold (0.5)\n",
    "y_pred_default_threshold = (y_pred_proba >= 0.5).astype(int)\n",
    "roc_auc_logloss = roc_auc_score(y_test, y_pred_proba)\n",
    "precision_default = precision_score(y_test, y_pred_default_threshold)\n",
    "recall_default = recall_score(y_test, y_pred_default_threshold)\n",
    "f1_default = f1_score(y_test, y_pred_default_threshold)\n",
    "accuracy_default = accuracy_score(y_test, y_pred_default_threshold)\n",
    "\n",
    "print(f'ROC AUC (logloss): {roc_auc_logloss}')\n",
    "print(f'Precision (default threshold): {precision_default}')\n",
    "print(f'Recall (default threshold): {recall_default}')\n",
    "print(f'F1 Score (default threshold): {f1_default}')\n",
    "print(f'Accuracy (default threshold): {accuracy_default}')\n",
    "\n",
    "# Confusion Matrix for default threshold\n",
    "conf_matrix_default = confusion_matrix(y_test, y_pred_default_threshold)\n",
    "print(f'Confusion Matrix (default threshold):\\n{conf_matrix_default}')\n",
    "ConfusionMatrixDisplay(conf_matrix_default).plot()\n",
    "plt.title('Confusion Matrix (Default Threshold)')\n",
    "plt.show()\n",
    "\n",
    "# Calculate ROC curve\n",
    "fpr, tpr, thresholds = roc_curve(y_test, y_pred_proba)\n",
    "\n",
    "# Find the threshold that gives the best trade-off\n",
    "optimal_idx = np.argmax(tpr - fpr)\n",
    "best_threshold = thresholds[optimal_idx]\n",
    "\n",
    "# Evaluate the model with the custom threshold\n",
    "y_pred_custom_threshold = (y_pred_proba >= best_threshold).astype(int)\n",
    "precision_custom = precision_score(y_test, y_pred_custom_threshold)\n",
    "recall_custom = recall_score(y_test, y_pred_custom_threshold)\n",
    "f1_custom = f1_score(y_test, y_pred_custom_threshold)\n",
    "accuracy_custom = accuracy_score(y_test, y_pred_custom_threshold)\n",
    "\n",
    "print(f'Best threshold: {best_threshold}')\n",
    "print(f'Precision (custom threshold): {precision_custom}')\n",
    "print(f'Recall (custom threshold): {recall_custom}')\n",
    "print(f'F1 Score (custom threshold): {f1_custom}')\n",
    "print(f'Accuracy (custom threshold): {accuracy_custom}')\n",
    "\n",
    "# Confusion Matrix for custom threshold\n",
    "conf_matrix_custom = confusion_matrix(y_test, y_pred_custom_threshold)\n",
    "print(f'Confusion Matrix (custom threshold):\\n{conf_matrix_custom}')\n",
    "ConfusionMatrixDisplay(conf_matrix_custom).plot()\n",
    "plt.title('Confusion Matrix (Custom Threshold)')\n",
    "plt.show()\n"
   ]
  },
  {
   "cell_type": "code",
   "execution_count": null,
   "id": "56e0a963",
   "metadata": {},
   "outputs": [],
   "source": []
  }
 ],
 "metadata": {
  "kernelspec": {
   "display_name": "stroke",
   "language": "python",
   "name": "python3"
  },
  "language_info": {
   "codemirror_mode": {
    "name": "ipython",
    "version": 3
   },
   "file_extension": ".py",
   "mimetype": "text/x-python",
   "name": "python",
   "nbconvert_exporter": "python",
   "pygments_lexer": "ipython3",
   "version": "3.10.14"
  },
  "toc": {
   "base_numbering": 1,
   "nav_menu": {},
   "number_sections": true,
   "sideBar": true,
   "skip_h1_title": false,
   "title_cell": "Table of Contents",
   "title_sidebar": "Contents",
   "toc_cell": false,
   "toc_position": {},
   "toc_section_display": true,
   "toc_window_display": false
  }
 },
 "nbformat": 4,
 "nbformat_minor": 5
}
